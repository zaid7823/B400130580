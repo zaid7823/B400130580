{
  "nbformat": 4,
  "nbformat_minor": 0,
  "metadata": {
    "colab": {
      "provenance": []
    },
    "kernelspec": {
      "name": "python3",
      "display_name": "Python 3"
    },
    "language_info": {
      "name": "python"
    }
  },
  "cells": [
    {
      "cell_type": "code",
      "execution_count": 23,
      "metadata": {
        "id": "NGn7LSQHhuL-"
      },
      "outputs": [],
      "source": [
        "# 1. Import the necessary libraries\n",
        "import numpy as np\n",
        "import pandas as pd\n",
        "from sklearn.model_selection import train_test_split\n",
        "from tensorflow.keras.models import Sequential\n",
        "from tensorflow.keras.layers import Dense, Input"
      ]
    },
    {
      "cell_type": "code",
      "source": [
        "# 2. Loading the dataset\n",
        "df = pd.read_csv('/content/drive/MyDrive/Colab Notebooks/LP 5/boston_housing.csv')\n",
        "df.head()\n",
        "\n",
        "# 3. Splitting the data into features and target\n",
        "X = df.drop(['MEDV'], axis=1)\n",
        "y = df['MEDV']"
      ],
      "metadata": {
        "id": "JLf9A-t5oab2"
      },
      "execution_count": 24,
      "outputs": []
    },
    {
      "cell_type": "code",
      "source": [
        "# 4. Splitting the data into training and testing sets\n",
        "x_train, x_test, y_train, y_test = train_test_split(X, y, test_size=0.2, random_state=42)\n",
        "\n",
        "# 5. Normalization of features using MinMaxScaler\n",
        "from sklearn.preprocessing import MinMaxScaler\n",
        "scaler = MinMaxScaler()\n",
        "x_train = scaler.fit_transform(x_train)\n",
        "x_test = scaler.transform(x_test)\n",
        "\n",
        "# 6. Checking the no. of features for model\n",
        "print(f\"No. of features = {len(X.columns)}\")"
      ],
      "metadata": {
        "colab": {
          "base_uri": "https://localhost:8080/"
        },
        "id": "cINmGKmypmhY",
        "outputId": "a7cb2750-f679-4c0d-be78-87ebc72e90bb"
      },
      "execution_count": 25,
      "outputs": [
        {
          "output_type": "stream",
          "name": "stdout",
          "text": [
            "No. of features = 13\n"
          ]
        }
      ]
    },
    {
      "cell_type": "code",
      "source": [
        "# 7. Defining the model\n",
        "model = Sequential([\n",
        "    Input((13, )),\n",
        "    Dense(128, activation='relu', name='dense_1'),\n",
        "    Dense(64, activation='relu', name='dense_2'),\n",
        "    Dense(1, activation='linear', name='output'),\n",
        "])\n",
        "\n",
        "# 8. Compiling the model\n",
        "model.compile(optimizer='adam', loss='mean_squared_error', metrics=['mae'])\n",
        "\n",
        "# 9. Model Summary\n",
        "model.summary()"
      ],
      "metadata": {
        "colab": {
          "base_uri": "https://localhost:8080/",
          "height": 230
        },
        "id": "qJLU9tPDrsZu",
        "outputId": "ac17ddfc-9f19-47ac-b931-6ecd8affc07c"
      },
      "execution_count": 26,
      "outputs": [
        {
          "output_type": "display_data",
          "data": {
            "text/plain": [
              "\u001b[1mModel: \"sequential_2\"\u001b[0m\n"
            ],
            "text/html": [
              "<pre style=\"white-space:pre;overflow-x:auto;line-height:normal;font-family:Menlo,'DejaVu Sans Mono',consolas,'Courier New',monospace\"><span style=\"font-weight: bold\">Model: \"sequential_2\"</span>\n",
              "</pre>\n"
            ]
          },
          "metadata": {}
        },
        {
          "output_type": "display_data",
          "data": {
            "text/plain": [
              "┏━━━━━━━━━━━━━━━━━━━━━━━━━━━━━━━━━┳━━━━━━━━━━━━━━━━━━━━━━━━┳━━━━━━━━━━━━━━━┓\n",
              "┃\u001b[1m \u001b[0m\u001b[1mLayer (type)                   \u001b[0m\u001b[1m \u001b[0m┃\u001b[1m \u001b[0m\u001b[1mOutput Shape          \u001b[0m\u001b[1m \u001b[0m┃\u001b[1m \u001b[0m\u001b[1m      Param #\u001b[0m\u001b[1m \u001b[0m┃\n",
              "┡━━━━━━━━━━━━━━━━━━━━━━━━━━━━━━━━━╇━━━━━━━━━━━━━━━━━━━━━━━━╇━━━━━━━━━━━━━━━┩\n",
              "│ dense_1 (\u001b[38;5;33mDense\u001b[0m)                 │ (\u001b[38;5;45mNone\u001b[0m, \u001b[38;5;34m128\u001b[0m)            │         \u001b[38;5;34m1,792\u001b[0m │\n",
              "├─────────────────────────────────┼────────────────────────┼───────────────┤\n",
              "│ dense_2 (\u001b[38;5;33mDense\u001b[0m)                 │ (\u001b[38;5;45mNone\u001b[0m, \u001b[38;5;34m64\u001b[0m)             │         \u001b[38;5;34m8,256\u001b[0m │\n",
              "├─────────────────────────────────┼────────────────────────┼───────────────┤\n",
              "│ output (\u001b[38;5;33mDense\u001b[0m)                  │ (\u001b[38;5;45mNone\u001b[0m, \u001b[38;5;34m1\u001b[0m)              │            \u001b[38;5;34m65\u001b[0m │\n",
              "└─────────────────────────────────┴────────────────────────┴───────────────┘\n"
            ],
            "text/html": [
              "<pre style=\"white-space:pre;overflow-x:auto;line-height:normal;font-family:Menlo,'DejaVu Sans Mono',consolas,'Courier New',monospace\">┏━━━━━━━━━━━━━━━━━━━━━━━━━━━━━━━━━┳━━━━━━━━━━━━━━━━━━━━━━━━┳━━━━━━━━━━━━━━━┓\n",
              "┃<span style=\"font-weight: bold\"> Layer (type)                    </span>┃<span style=\"font-weight: bold\"> Output Shape           </span>┃<span style=\"font-weight: bold\">       Param # </span>┃\n",
              "┡━━━━━━━━━━━━━━━━━━━━━━━━━━━━━━━━━╇━━━━━━━━━━━━━━━━━━━━━━━━╇━━━━━━━━━━━━━━━┩\n",
              "│ dense_1 (<span style=\"color: #0087ff; text-decoration-color: #0087ff\">Dense</span>)                 │ (<span style=\"color: #00d7ff; text-decoration-color: #00d7ff\">None</span>, <span style=\"color: #00af00; text-decoration-color: #00af00\">128</span>)            │         <span style=\"color: #00af00; text-decoration-color: #00af00\">1,792</span> │\n",
              "├─────────────────────────────────┼────────────────────────┼───────────────┤\n",
              "│ dense_2 (<span style=\"color: #0087ff; text-decoration-color: #0087ff\">Dense</span>)                 │ (<span style=\"color: #00d7ff; text-decoration-color: #00d7ff\">None</span>, <span style=\"color: #00af00; text-decoration-color: #00af00\">64</span>)             │         <span style=\"color: #00af00; text-decoration-color: #00af00\">8,256</span> │\n",
              "├─────────────────────────────────┼────────────────────────┼───────────────┤\n",
              "│ output (<span style=\"color: #0087ff; text-decoration-color: #0087ff\">Dense</span>)                  │ (<span style=\"color: #00d7ff; text-decoration-color: #00d7ff\">None</span>, <span style=\"color: #00af00; text-decoration-color: #00af00\">1</span>)              │            <span style=\"color: #00af00; text-decoration-color: #00af00\">65</span> │\n",
              "└─────────────────────────────────┴────────────────────────┴───────────────┘\n",
              "</pre>\n"
            ]
          },
          "metadata": {}
        },
        {
          "output_type": "display_data",
          "data": {
            "text/plain": [
              "\u001b[1m Total params: \u001b[0m\u001b[38;5;34m10,113\u001b[0m (39.50 KB)\n"
            ],
            "text/html": [
              "<pre style=\"white-space:pre;overflow-x:auto;line-height:normal;font-family:Menlo,'DejaVu Sans Mono',consolas,'Courier New',monospace\"><span style=\"font-weight: bold\"> Total params: </span><span style=\"color: #00af00; text-decoration-color: #00af00\">10,113</span> (39.50 KB)\n",
              "</pre>\n"
            ]
          },
          "metadata": {}
        },
        {
          "output_type": "display_data",
          "data": {
            "text/plain": [
              "\u001b[1m Trainable params: \u001b[0m\u001b[38;5;34m10,113\u001b[0m (39.50 KB)\n"
            ],
            "text/html": [
              "<pre style=\"white-space:pre;overflow-x:auto;line-height:normal;font-family:Menlo,'DejaVu Sans Mono',consolas,'Courier New',monospace\"><span style=\"font-weight: bold\"> Trainable params: </span><span style=\"color: #00af00; text-decoration-color: #00af00\">10,113</span> (39.50 KB)\n",
              "</pre>\n"
            ]
          },
          "metadata": {}
        },
        {
          "output_type": "display_data",
          "data": {
            "text/plain": [
              "\u001b[1m Non-trainable params: \u001b[0m\u001b[38;5;34m0\u001b[0m (0.00 B)\n"
            ],
            "text/html": [
              "<pre style=\"white-space:pre;overflow-x:auto;line-height:normal;font-family:Menlo,'DejaVu Sans Mono',consolas,'Courier New',monospace\"><span style=\"font-weight: bold\"> Non-trainable params: </span><span style=\"color: #00af00; text-decoration-color: #00af00\">0</span> (0.00 B)\n",
              "</pre>\n"
            ]
          },
          "metadata": {}
        }
      ]
    },
    {
      "cell_type": "code",
      "source": [
        "# 10. Training the model\n",
        "# from tensorflow.keras.callbacks import EarlyStopping\n",
        "# early_stop = EarlyStopping(monitor='val_loss', patience=10, restore_best_weights=True)\n",
        "\n",
        "history = model.fit(x_train, y_train, epochs=50, validation_split=0.05, verbose=1)"
      ],
      "metadata": {
        "colab": {
          "base_uri": "https://localhost:8080/"
        },
        "id": "wCJHRzpmtNdA",
        "outputId": "b468bd7d-50c2-45ad-b368-4a20c7ab06f1"
      },
      "execution_count": 27,
      "outputs": [
        {
          "output_type": "stream",
          "name": "stdout",
          "text": [
            "Epoch 1/50\n",
            "\u001b[1m12/12\u001b[0m \u001b[32m━━━━━━━━━━━━━━━━━━━━\u001b[0m\u001b[37m\u001b[0m \u001b[1m1s\u001b[0m 22ms/step - loss: 591.0974 - mae: 22.5250 - val_loss: 499.3497 - val_mae: 20.8414\n",
            "Epoch 2/50\n",
            "\u001b[1m12/12\u001b[0m \u001b[32m━━━━━━━━━━━━━━━━━━━━\u001b[0m\u001b[37m\u001b[0m \u001b[1m0s\u001b[0m 12ms/step - loss: 549.2221 - mae: 21.5345 - val_loss: 447.4042 - val_mae: 19.5630\n",
            "Epoch 3/50\n",
            "\u001b[1m12/12\u001b[0m \u001b[32m━━━━━━━━━━━━━━━━━━━━\u001b[0m\u001b[37m\u001b[0m \u001b[1m0s\u001b[0m 8ms/step - loss: 507.3003 - mae: 20.4578 - val_loss: 364.3407 - val_mae: 17.3089\n",
            "Epoch 4/50\n",
            "\u001b[1m12/12\u001b[0m \u001b[32m━━━━━━━━━━━━━━━━━━━━\u001b[0m\u001b[37m\u001b[0m \u001b[1m0s\u001b[0m 8ms/step - loss: 419.1418 - mae: 17.7049 - val_loss: 244.8841 - val_mae: 13.3737\n",
            "Epoch 5/50\n",
            "\u001b[1m12/12\u001b[0m \u001b[32m━━━━━━━━━━━━━━━━━━━━\u001b[0m\u001b[37m\u001b[0m \u001b[1m0s\u001b[0m 8ms/step - loss: 264.3374 - mae: 13.2230 - val_loss: 125.9621 - val_mae: 8.4934\n",
            "Epoch 6/50\n",
            "\u001b[1m12/12\u001b[0m \u001b[32m━━━━━━━━━━━━━━━━━━━━\u001b[0m\u001b[37m\u001b[0m \u001b[1m0s\u001b[0m 8ms/step - loss: 173.4725 - mae: 10.3785 - val_loss: 76.5338 - val_mae: 7.0600\n",
            "Epoch 7/50\n",
            "\u001b[1m12/12\u001b[0m \u001b[32m━━━━━━━━━━━━━━━━━━━━\u001b[0m\u001b[37m\u001b[0m \u001b[1m0s\u001b[0m 8ms/step - loss: 147.6668 - mae: 9.6537 - val_loss: 71.9858 - val_mae: 6.9358\n",
            "Epoch 8/50\n",
            "\u001b[1m12/12\u001b[0m \u001b[32m━━━━━━━━━━━━━━━━━━━━\u001b[0m\u001b[37m\u001b[0m \u001b[1m0s\u001b[0m 7ms/step - loss: 121.8235 - mae: 8.7587 - val_loss: 64.5673 - val_mae: 6.2194\n",
            "Epoch 9/50\n",
            "\u001b[1m12/12\u001b[0m \u001b[32m━━━━━━━━━━━━━━━━━━━━\u001b[0m\u001b[37m\u001b[0m \u001b[1m0s\u001b[0m 8ms/step - loss: 116.8322 - mae: 8.2750 - val_loss: 59.8453 - val_mae: 5.6748\n",
            "Epoch 10/50\n",
            "\u001b[1m12/12\u001b[0m \u001b[32m━━━━━━━━━━━━━━━━━━━━\u001b[0m\u001b[37m\u001b[0m \u001b[1m0s\u001b[0m 8ms/step - loss: 104.0081 - mae: 7.4799 - val_loss: 56.1340 - val_mae: 5.2433\n",
            "Epoch 11/50\n",
            "\u001b[1m12/12\u001b[0m \u001b[32m━━━━━━━━━━━━━━━━━━━━\u001b[0m\u001b[37m\u001b[0m \u001b[1m0s\u001b[0m 7ms/step - loss: 86.1604 - mae: 7.0755 - val_loss: 53.9052 - val_mae: 4.9641\n",
            "Epoch 12/50\n",
            "\u001b[1m12/12\u001b[0m \u001b[32m━━━━━━━━━━━━━━━━━━━━\u001b[0m\u001b[37m\u001b[0m \u001b[1m0s\u001b[0m 8ms/step - loss: 80.0748 - mae: 6.5649 - val_loss: 52.5670 - val_mae: 4.9344\n",
            "Epoch 13/50\n",
            "\u001b[1m12/12\u001b[0m \u001b[32m━━━━━━━━━━━━━━━━━━━━\u001b[0m\u001b[37m\u001b[0m \u001b[1m0s\u001b[0m 8ms/step - loss: 64.4255 - mae: 5.9591 - val_loss: 52.3448 - val_mae: 4.9181\n",
            "Epoch 14/50\n",
            "\u001b[1m12/12\u001b[0m \u001b[32m━━━━━━━━━━━━━━━━━━━━\u001b[0m\u001b[37m\u001b[0m \u001b[1m0s\u001b[0m 11ms/step - loss: 60.1323 - mae: 5.6884 - val_loss: 53.0971 - val_mae: 4.9051\n",
            "Epoch 15/50\n",
            "\u001b[1m12/12\u001b[0m \u001b[32m━━━━━━━━━━━━━━━━━━━━\u001b[0m\u001b[37m\u001b[0m \u001b[1m0s\u001b[0m 7ms/step - loss: 48.1304 - mae: 5.0595 - val_loss: 54.4143 - val_mae: 4.8719\n",
            "Epoch 16/50\n",
            "\u001b[1m12/12\u001b[0m \u001b[32m━━━━━━━━━━━━━━━━━━━━\u001b[0m\u001b[37m\u001b[0m \u001b[1m0s\u001b[0m 8ms/step - loss: 52.0448 - mae: 5.3312 - val_loss: 55.2215 - val_mae: 4.9318\n",
            "Epoch 17/50\n",
            "\u001b[1m12/12\u001b[0m \u001b[32m━━━━━━━━━━━━━━━━━━━━\u001b[0m\u001b[37m\u001b[0m \u001b[1m0s\u001b[0m 9ms/step - loss: 54.7132 - mae: 5.3972 - val_loss: 55.8114 - val_mae: 4.9659\n",
            "Epoch 18/50\n",
            "\u001b[1m12/12\u001b[0m \u001b[32m━━━━━━━━━━━━━━━━━━━━\u001b[0m\u001b[37m\u001b[0m \u001b[1m0s\u001b[0m 8ms/step - loss: 56.7509 - mae: 5.4097 - val_loss: 56.8702 - val_mae: 4.8472\n",
            "Epoch 19/50\n",
            "\u001b[1m12/12\u001b[0m \u001b[32m━━━━━━━━━━━━━━━━━━━━\u001b[0m\u001b[37m\u001b[0m \u001b[1m0s\u001b[0m 7ms/step - loss: 48.3643 - mae: 4.9147 - val_loss: 56.7241 - val_mae: 4.8529\n",
            "Epoch 20/50\n",
            "\u001b[1m12/12\u001b[0m \u001b[32m━━━━━━━━━━━━━━━━━━━━\u001b[0m\u001b[37m\u001b[0m \u001b[1m0s\u001b[0m 8ms/step - loss: 55.3903 - mae: 5.3098 - val_loss: 56.3027 - val_mae: 4.9025\n",
            "Epoch 21/50\n",
            "\u001b[1m12/12\u001b[0m \u001b[32m━━━━━━━━━━━━━━━━━━━━\u001b[0m\u001b[37m\u001b[0m \u001b[1m0s\u001b[0m 7ms/step - loss: 44.9930 - mae: 4.8580 - val_loss: 56.6308 - val_mae: 4.8450\n",
            "Epoch 22/50\n",
            "\u001b[1m12/12\u001b[0m \u001b[32m━━━━━━━━━━━━━━━━━━━━\u001b[0m\u001b[37m\u001b[0m \u001b[1m0s\u001b[0m 7ms/step - loss: 38.9776 - mae: 4.5263 - val_loss: 56.8261 - val_mae: 4.7981\n",
            "Epoch 23/50\n",
            "\u001b[1m12/12\u001b[0m \u001b[32m━━━━━━━━━━━━━━━━━━━━\u001b[0m\u001b[37m\u001b[0m \u001b[1m0s\u001b[0m 8ms/step - loss: 41.6692 - mae: 4.6780 - val_loss: 55.5042 - val_mae: 4.8089\n",
            "Epoch 24/50\n",
            "\u001b[1m12/12\u001b[0m \u001b[32m━━━━━━━━━━━━━━━━━━━━\u001b[0m\u001b[37m\u001b[0m \u001b[1m0s\u001b[0m 8ms/step - loss: 34.5283 - mae: 4.3180 - val_loss: 55.1875 - val_mae: 4.7215\n",
            "Epoch 25/50\n",
            "\u001b[1m12/12\u001b[0m \u001b[32m━━━━━━━━━━━━━━━━━━━━\u001b[0m\u001b[37m\u001b[0m \u001b[1m0s\u001b[0m 11ms/step - loss: 36.8324 - mae: 4.3867 - val_loss: 55.0161 - val_mae: 4.6802\n",
            "Epoch 26/50\n",
            "\u001b[1m12/12\u001b[0m \u001b[32m━━━━━━━━━━━━━━━━━━━━\u001b[0m\u001b[37m\u001b[0m \u001b[1m0s\u001b[0m 8ms/step - loss: 30.9327 - mae: 4.0808 - val_loss: 54.8763 - val_mae: 4.6050\n",
            "Epoch 27/50\n",
            "\u001b[1m12/12\u001b[0m \u001b[32m━━━━━━━━━━━━━━━━━━━━\u001b[0m\u001b[37m\u001b[0m \u001b[1m0s\u001b[0m 7ms/step - loss: 31.7071 - mae: 3.9861 - val_loss: 54.1326 - val_mae: 4.5802\n",
            "Epoch 28/50\n",
            "\u001b[1m12/12\u001b[0m \u001b[32m━━━━━━━━━━━━━━━━━━━━\u001b[0m\u001b[37m\u001b[0m \u001b[1m0s\u001b[0m 8ms/step - loss: 28.0157 - mae: 3.8461 - val_loss: 55.1738 - val_mae: 4.5703\n",
            "Epoch 29/50\n",
            "\u001b[1m12/12\u001b[0m \u001b[32m━━━━━━━━━━━━━━━━━━━━\u001b[0m\u001b[37m\u001b[0m \u001b[1m0s\u001b[0m 8ms/step - loss: 29.4854 - mae: 3.9290 - val_loss: 54.3667 - val_mae: 4.5307\n",
            "Epoch 30/50\n",
            "\u001b[1m12/12\u001b[0m \u001b[32m━━━━━━━━━━━━━━━━━━━━\u001b[0m\u001b[37m\u001b[0m \u001b[1m0s\u001b[0m 8ms/step - loss: 24.6731 - mae: 3.6299 - val_loss: 55.0554 - val_mae: 4.4817\n",
            "Epoch 31/50\n",
            "\u001b[1m12/12\u001b[0m \u001b[32m━━━━━━━━━━━━━━━━━━━━\u001b[0m\u001b[37m\u001b[0m \u001b[1m0s\u001b[0m 8ms/step - loss: 24.8362 - mae: 3.5479 - val_loss: 53.6530 - val_mae: 4.4829\n",
            "Epoch 32/50\n",
            "\u001b[1m12/12\u001b[0m \u001b[32m━━━━━━━━━━━━━━━━━━━━\u001b[0m\u001b[37m\u001b[0m \u001b[1m0s\u001b[0m 9ms/step - loss: 21.7690 - mae: 3.4916 - val_loss: 54.7957 - val_mae: 4.4363\n",
            "Epoch 33/50\n",
            "\u001b[1m12/12\u001b[0m \u001b[32m━━━━━━━━━━━━━━━━━━━━\u001b[0m\u001b[37m\u001b[0m \u001b[1m0s\u001b[0m 7ms/step - loss: 28.1373 - mae: 3.5817 - val_loss: 55.1261 - val_mae: 4.3811\n",
            "Epoch 34/50\n",
            "\u001b[1m12/12\u001b[0m \u001b[32m━━━━━━━━━━━━━━━━━━━━\u001b[0m\u001b[37m\u001b[0m \u001b[1m0s\u001b[0m 7ms/step - loss: 22.1273 - mae: 3.3541 - val_loss: 54.7067 - val_mae: 4.3694\n",
            "Epoch 35/50\n",
            "\u001b[1m12/12\u001b[0m \u001b[32m━━━━━━━━━━━━━━━━━━━━\u001b[0m\u001b[37m\u001b[0m \u001b[1m0s\u001b[0m 8ms/step - loss: 20.4180 - mae: 3.2533 - val_loss: 55.2487 - val_mae: 4.3487\n",
            "Epoch 36/50\n",
            "\u001b[1m12/12\u001b[0m \u001b[32m━━━━━━━━━━━━━━━━━━━━\u001b[0m\u001b[37m\u001b[0m \u001b[1m0s\u001b[0m 8ms/step - loss: 26.6282 - mae: 3.4921 - val_loss: 55.3442 - val_mae: 4.3192\n",
            "Epoch 37/50\n",
            "\u001b[1m12/12\u001b[0m \u001b[32m━━━━━━━━━━━━━━━━━━━━\u001b[0m\u001b[37m\u001b[0m \u001b[1m0s\u001b[0m 8ms/step - loss: 24.8827 - mae: 3.4755 - val_loss: 54.9471 - val_mae: 4.2972\n",
            "Epoch 38/50\n",
            "\u001b[1m12/12\u001b[0m \u001b[32m━━━━━━━━━━━━━━━━━━━━\u001b[0m\u001b[37m\u001b[0m \u001b[1m0s\u001b[0m 12ms/step - loss: 21.0407 - mae: 3.2427 - val_loss: 55.0827 - val_mae: 4.2764\n",
            "Epoch 39/50\n",
            "\u001b[1m12/12\u001b[0m \u001b[32m━━━━━━━━━━━━━━━━━━━━\u001b[0m\u001b[37m\u001b[0m \u001b[1m0s\u001b[0m 14ms/step - loss: 20.1926 - mae: 3.1902 - val_loss: 56.7753 - val_mae: 4.2846\n",
            "Epoch 40/50\n",
            "\u001b[1m12/12\u001b[0m \u001b[32m━━━━━━━━━━━━━━━━━━━━\u001b[0m\u001b[37m\u001b[0m \u001b[1m0s\u001b[0m 14ms/step - loss: 18.2486 - mae: 3.1046 - val_loss: 56.2050 - val_mae: 4.2507\n",
            "Epoch 41/50\n",
            "\u001b[1m12/12\u001b[0m \u001b[32m━━━━━━━━━━━━━━━━━━━━\u001b[0m\u001b[37m\u001b[0m \u001b[1m0s\u001b[0m 14ms/step - loss: 22.3089 - mae: 3.0684 - val_loss: 55.6159 - val_mae: 4.2110\n",
            "Epoch 42/50\n",
            "\u001b[1m12/12\u001b[0m \u001b[32m━━━━━━━━━━━━━━━━━━━━\u001b[0m\u001b[37m\u001b[0m \u001b[1m0s\u001b[0m 14ms/step - loss: 15.4332 - mae: 2.8766 - val_loss: 56.0608 - val_mae: 4.2222\n",
            "Epoch 43/50\n",
            "\u001b[1m12/12\u001b[0m \u001b[32m━━━━━━━━━━━━━━━━━━━━\u001b[0m\u001b[37m\u001b[0m \u001b[1m0s\u001b[0m 14ms/step - loss: 19.1213 - mae: 3.1364 - val_loss: 55.0968 - val_mae: 4.1652\n",
            "Epoch 44/50\n",
            "\u001b[1m12/12\u001b[0m \u001b[32m━━━━━━━━━━━━━━━━━━━━\u001b[0m\u001b[37m\u001b[0m \u001b[1m0s\u001b[0m 10ms/step - loss: 17.0127 - mae: 2.9213 - val_loss: 55.4835 - val_mae: 4.1706\n",
            "Epoch 45/50\n",
            "\u001b[1m12/12\u001b[0m \u001b[32m━━━━━━━━━━━━━━━━━━━━\u001b[0m\u001b[37m\u001b[0m \u001b[1m0s\u001b[0m 14ms/step - loss: 18.5862 - mae: 2.9271 - val_loss: 55.4198 - val_mae: 4.1824\n",
            "Epoch 46/50\n",
            "\u001b[1m12/12\u001b[0m \u001b[32m━━━━━━━━━━━━━━━━━━━━\u001b[0m\u001b[37m\u001b[0m \u001b[1m0s\u001b[0m 10ms/step - loss: 18.7442 - mae: 3.0133 - val_loss: 56.0084 - val_mae: 4.2344\n",
            "Epoch 47/50\n",
            "\u001b[1m12/12\u001b[0m \u001b[32m━━━━━━━━━━━━━━━━━━━━\u001b[0m\u001b[37m\u001b[0m \u001b[1m0s\u001b[0m 15ms/step - loss: 17.1959 - mae: 2.9781 - val_loss: 55.3579 - val_mae: 4.2623\n",
            "Epoch 48/50\n",
            "\u001b[1m12/12\u001b[0m \u001b[32m━━━━━━━━━━━━━━━━━━━━\u001b[0m\u001b[37m\u001b[0m \u001b[1m0s\u001b[0m 12ms/step - loss: 15.3748 - mae: 2.8449 - val_loss: 55.6685 - val_mae: 4.2109\n",
            "Epoch 49/50\n",
            "\u001b[1m12/12\u001b[0m \u001b[32m━━━━━━━━━━━━━━━━━━━━\u001b[0m\u001b[37m\u001b[0m \u001b[1m0s\u001b[0m 15ms/step - loss: 13.6506 - mae: 2.6191 - val_loss: 55.4447 - val_mae: 4.2195\n",
            "Epoch 50/50\n",
            "\u001b[1m12/12\u001b[0m \u001b[32m━━━━━━━━━━━━━━━━━━━━\u001b[0m\u001b[37m\u001b[0m \u001b[1m0s\u001b[0m 8ms/step - loss: 17.4415 - mae: 3.0432 - val_loss: 55.4319 - val_mae: 4.2082\n"
          ]
        }
      ]
    },
    {
      "cell_type": "code",
      "source": [
        "# 11. Model Evaluation on test data\n",
        "mse, mae = model.evaluate(x_test, y_test)\n",
        "print(f\"MSE: {mse}\")\n",
        "print(f\"MAE: {mae}\")"
      ],
      "metadata": {
        "colab": {
          "base_uri": "https://localhost:8080/"
        },
        "id": "dDaGcfvxtx_H",
        "outputId": "eb67a731-9561-45c3-e138-f5824b115b30"
      },
      "execution_count": 28,
      "outputs": [
        {
          "output_type": "stream",
          "name": "stdout",
          "text": [
            "\u001b[1m4/4\u001b[0m \u001b[32m━━━━━━━━━━━━━━━━━━━━\u001b[0m\u001b[37m\u001b[0m \u001b[1m0s\u001b[0m 9ms/step - loss: 13.7095 - mae: 2.4085\n",
            "MSE: 19.90058708190918\n",
            "MAE: 2.757338523864746\n"
          ]
        }
      ]
    },
    {
      "cell_type": "code",
      "source": [
        "# 12. Plotting Training vs Validation Metrics\n",
        "import matplotlib.pyplot as plt\n",
        "\n",
        "plt.plot(history.history['loss'], label='Training Loss')\n",
        "plt.plot(history.history['mae'], label='Training MAE')\n",
        "plt.title('Training Loss and MAE')\n",
        "plt.grid(True)\n",
        "plt.legend()\n",
        "plt.show()"
      ],
      "metadata": {
        "colab": {
          "base_uri": "https://localhost:8080/",
          "height": 452
        },
        "id": "I6cLUweTuT7P",
        "outputId": "ed9c027b-b49b-4d1f-ff35-ea803446eaae"
      },
      "execution_count": 29,
      "outputs": [
        {
          "output_type": "display_data",
          "data": {
            "text/plain": [
              "<Figure size 640x480 with 1 Axes>"
            ],
            "image/png": "[encoded data removed]"
          },
          "metadata": {}
        }
      ]
    },
    {
      "cell_type": "markdown",
      "source": [
        "---\n",
        "\n",
        "### 🔹 **Block 1: Import Libraries**\n",
        "\n",
        "```python\n",
        "import numpy as np\n",
        "import pandas as pd\n",
        "from sklearn.model_selection import train_test_split\n",
        "from tensorflow.keras.models import Sequential\n",
        "from tensorflow.keras.layers import Dense, Input\n",
        "```\n",
        "\n",
        "* `numpy` and `pandas`: For numerical operations and data handling.\n",
        "* `train_test_split`: Splits the dataset into training and testing sets.\n",
        "* `Sequential`: Keras model type where layers are stacked one after the other.\n",
        "* `Dense`, `Input`: Neural network layers:\n",
        "\n",
        "  * `Input`: defines the input shape.\n",
        "  * `Dense`: a fully connected layer (each neuron connects to all in the next layer).\n",
        "\n",
        "---\n",
        "\n",
        "### 🔹 **Block 2: Load Dataset**\n",
        "\n",
        "```python\n",
        "df = pd.read_csv('/content/drive/MyDrive/Colab Notebooks/LP 5/boston_housing.csv')\n",
        "df.head()\n",
        "```\n",
        "\n",
        "* Loads the **Boston Housing dataset** from a CSV file into a DataFrame `df`.\n",
        "* `df.head()` shows the first 5 rows to verify data is loaded properly.\n",
        "* The dataset typically contains **13 features** (e.g., crime rate, number of rooms, etc.) and one target (`MEDV`: Median house price in \\$1000s).\n",
        "\n",
        "---\n",
        "\n",
        "### 🔹 **Block 3: Split Features and Target**\n",
        "\n",
        "```python\n",
        "X = df.drop(['MEDV'], axis=1)\n",
        "y = df['MEDV']\n",
        "```\n",
        "\n",
        "* `X`: all columns except `'MEDV'` → the **input features**.\n",
        "* `y`: the `'MEDV'` column → the **target variable** (what you want to predict).\n",
        "\n",
        "---\n",
        "\n",
        "### 🔹 **Block 4: Train-Test Split**\n",
        "\n",
        "```python\n",
        "x_train, x_test, y_train, y_test = train_test_split(X, y, test_size=0.2, random_state=42)\n",
        "```\n",
        "\n",
        "* Splits the data into:\n",
        "\n",
        "  * 80% for training\n",
        "  * 20% for testing\n",
        "* `random_state=42` ensures reproducibility (same split every time).\n",
        "\n",
        "---\n",
        "\n",
        "### 🔹 **Block 5: Feature Normalization**\n",
        "\n",
        "```python\n",
        "from sklearn.preprocessing import MinMaxScaler\n",
        "scaler = MinMaxScaler()\n",
        "x_train = scaler.fit_transform(x_train)\n",
        "x_test = scaler.transform(x_test)\n",
        "```\n",
        "\n",
        "* Neural networks work better when input features are on the **same scale**.\n",
        "* `MinMaxScaler` scales features to a range of **\\[0, 1]**.\n",
        "\n",
        "  * `fit_transform`: calculates min/max on training data and scales it.\n",
        "  * `transform`: uses the same scale on test data.\n",
        "\n",
        "---\n",
        "\n",
        "### 🔹 **Block 6: Feature Count Check**\n",
        "\n",
        "```python\n",
        "print(f\"No. of features = {len(X.columns)}\")\n",
        "```\n",
        "\n",
        "* Confirms number of input features (should be 13 for this dataset).\n",
        "\n",
        "---\n",
        "\n",
        "### 🔹 **Block 7: Model Definition**\n",
        "\n",
        "```python\n",
        "model = Sequential([\n",
        "    Input((13, )),\n",
        "    Dense(128, activation='relu', name='dense_1'),\n",
        "    Dense(64, activation='relu', name='dense_2'),\n",
        "    Dense(1, activation='linear', name='output'),\n",
        "])\n",
        "```\n",
        "\n",
        "* A **fully connected feedforward neural network** with:\n",
        "\n",
        "  * Input layer: expects 13 features.\n",
        "  * Dense Layer 1: 128 neurons, ReLU activation.\n",
        "  * Dense Layer 2: 64 neurons, ReLU activation.\n",
        "  * Output Layer: 1 neuron, linear activation (used for regression).\n",
        "* This structure is typical for **regression problems**.\n",
        "\n",
        "---\n",
        "\n",
        "### 🔹 **Block 8: Compile Model**\n",
        "\n",
        "```python\n",
        "model.compile(optimizer='adam', loss='mean_squared_error', metrics=['mae'])\n",
        "```\n",
        "\n",
        "* `optimizer='adam'`: Adaptive optimizer combining RMSprop + momentum.\n",
        "* `loss='mean_squared_error'`: Common regression loss; penalizes large errors.\n",
        "* `metrics=['mae']`: Tracks Mean Absolute Error during training.\n",
        "\n",
        "---\n",
        "\n",
        "### 🔹 **Block 9: Model Summary**\n",
        "\n",
        "```python\n",
        "model.summary()\n",
        "```\n",
        "\n",
        "* Prints a summary of the model:\n",
        "\n",
        "  * Layer names\n",
        "  * Output shapes\n",
        "  * Number of trainable parameters\n",
        "\n",
        "---\n",
        "\n",
        "### 🔹 **Block 10: Train Model**\n",
        "\n",
        "```python\n",
        "history = model.fit(x_train, y_train, epochs=50, validation_split=0.05, verbose=1)\n",
        "```\n",
        "\n",
        "* Trains the model on training data.\n",
        "* `epochs=50`: passes over the training set 50 times.\n",
        "* `validation_split=0.05`: uses 5% of training data to validate performance during training.\n",
        "* `verbose=1`: shows training progress.\n",
        "\n",
        "*Note:* `EarlyStopping` is commented out — useful for avoiding overfitting by stopping early when validation loss stops improving.\n",
        "\n",
        "---\n",
        "\n",
        "### 🔹 **Block 11: Evaluate Model**\n",
        "\n",
        "```python\n",
        "mse, mae = model.evaluate(x_test, y_test)\n",
        "print(f\"MSE: {mse}\")\n",
        "print(f\"MAE: {mae}\")\n",
        "```\n",
        "\n",
        "* Evaluates the model on **unseen test data**.\n",
        "* Returns:\n",
        "\n",
        "  * `mse`: how far predictions are from actual values (squared error).\n",
        "  * `mae`: average absolute error — more interpretable in dollars.\n",
        "\n",
        "---\n",
        "\n",
        "### 🔹 **Block 12: Plot Training History**\n",
        "\n",
        "```python\n",
        "import matplotlib.pyplot as plt\n",
        "\n",
        "plt.plot(history.history['loss'], label='Training Loss')\n",
        "plt.plot(history.history['mae'], label='Training MAE')\n",
        "plt.title('Training Loss and MAE')\n",
        "plt.grid(True)\n",
        "plt.legend()\n",
        "plt.show()\n",
        "```\n",
        "\n",
        "* Visualizes:\n",
        "\n",
        "  * Loss (MSE) during training\n",
        "  * MAE (how far off predictions were)\n",
        "* Helps track model **learning progress** and detect **overfitting** (if MAE plateaus or diverges).\n",
        "\n",
        "---\n",
        "\n",
        "### 🔍 Terminology Deep Dive:\n",
        "\n",
        "| Term                             | Meaning                                                                                  |\n",
        "| -------------------------------- | ---------------------------------------------------------------------------------------- |\n",
        "| **Epoch**                        | One complete pass through the training dataset.                                          |\n",
        "| **Batch**                        | A subset of the training data processed before updating model weights.                   |\n",
        "| **ReLU (Rectified Linear Unit)** | Activation function: `f(x) = max(0, x)`, helps with non-linearity.                       |\n",
        "| **Dense Layer**                  | Fully connected layer where every neuron connects to all inputs from the previous layer. |\n",
        "| **MSE**                          | Penalizes larger errors more heavily (used in regression).                               |\n",
        "| **MAE**                          | Average of absolute differences — easier to interpret.                                   |\n",
        "| **Normalization**                | Scaling features to a standard range (like 0–1) to improve model performance.            |\n",
        "| **Validation Split**             | Portion of the training set held out to validate performance during training.            |\n",
        "\n",
        "---\n",
        "\n",
        "Let me know if you’d like to plot predictions vs actual values too — that’s great for regression analysis!\n"
      ],
      "metadata": {
        "id": "Zcucbpbkxz_N"
      }
    }
  ]
}